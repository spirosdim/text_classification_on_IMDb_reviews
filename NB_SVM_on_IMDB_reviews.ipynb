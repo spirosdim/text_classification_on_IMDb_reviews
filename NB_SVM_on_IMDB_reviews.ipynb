{
  "nbformat": 4,
  "nbformat_minor": 0,
  "metadata": {
    "colab": {
      "name": "NB-SVM_on_IMDB_reviews.ipynb",
      "version": "0.3.2",
      "provenance": [],
      "collapsed_sections": []
    },
    "kernelspec": {
      "name": "python3",
      "display_name": "Python 3"
    },
    "accelerator": "GPU"
  },
  "cells": [
    {
      "metadata": {
        "id": "lPHI9iOuE5K7",
        "colab_type": "text"
      },
      "cell_type": "markdown",
      "source": [
        "# NB-SVM for Sentiment Classification "
      ]
    },
    {
      "metadata": {
        "id": "fbx-z1uu76k_",
        "colab_type": "text"
      },
      "cell_type": "markdown",
      "source": [
        "This implimentation is from [NB-SVM strong linear baseline](https://www.kaggle.com/jhoward/nb-svm-strong-linear-baseline) Kaggle Kernel by **Jeremy Howard**, on  Toxic Comment Classification Challenge competition.\n",
        "In this notebook we will use it to find the polarity of IMDb reviews.\n",
        "\n",
        "NBSVM was introduced by Sida Wang and Chris Manning in the paper [Baselines and Bigrams: Simple, Good Sentiment and Topic Classiﬁcation](https://nlp.stanford.edu/pubs/sidaw12_simple_sentiment.pdf). In this implimentation, we use sklearn's logistic regression, rather than SVM, although in practice the two are nearly identical (sklearn uses the liblinear library behind the scenes)."
      ]
    },
    {
      "metadata": {
        "id": "NDh-rGCy7O_n",
        "colab_type": "code",
        "colab": {}
      },
      "cell_type": "code",
      "source": [
        "import pandas as pd \n",
        "import numpy as np"
      ],
      "execution_count": 0,
      "outputs": []
    },
    {
      "metadata": {
        "id": "7AQgzAekPXSu",
        "colab_type": "text"
      },
      "cell_type": "markdown",
      "source": [
        "The dataset has been pickled with the dataset.py script.\n",
        "\n",
        "Here we just unpickle it."
      ]
    },
    {
      "metadata": {
        "id": "KO4zSlx6zSxf",
        "colab_type": "code",
        "colab": {}
      },
      "cell_type": "code",
      "source": [
        "import pickle\n",
        "\n",
        "# Unpickling the dataset\n",
        "with open('df.pickle', 'rb') as f:\n",
        "    df = pickle.load(f)\n",
        "    "
      ],
      "execution_count": 0,
      "outputs": []
    },
    {
      "metadata": {
        "id": "2ANEQUT89dc8",
        "colab_type": "code",
        "outputId": "a3bdb08a-4ec5-4e93-c143-3376dccaed08",
        "colab": {
          "base_uri": "https://localhost:8080/",
          "height": 197
        }
      },
      "cell_type": "code",
      "source": [
        "df.head()"
      ],
      "execution_count": 4,
      "outputs": [
        {
          "output_type": "execute_result",
          "data": {
            "text/html": [
              "<div>\n",
              "<style scoped>\n",
              "    .dataframe tbody tr th:only-of-type {\n",
              "        vertical-align: middle;\n",
              "    }\n",
              "\n",
              "    .dataframe tbody tr th {\n",
              "        vertical-align: top;\n",
              "    }\n",
              "\n",
              "    .dataframe thead th {\n",
              "        text-align: right;\n",
              "    }\n",
              "</style>\n",
              "<table border=\"1\" class=\"dataframe\">\n",
              "  <thead>\n",
              "    <tr style=\"text-align: right;\">\n",
              "      <th></th>\n",
              "      <th>label</th>\n",
              "      <th>text</th>\n",
              "    </tr>\n",
              "  </thead>\n",
              "  <tbody>\n",
              "    <tr>\n",
              "      <th>0</th>\n",
              "      <td>0</td>\n",
              "      <td>I am a huge Stooges fan but the one and only r...</td>\n",
              "    </tr>\n",
              "    <tr>\n",
              "      <th>1</th>\n",
              "      <td>1</td>\n",
              "      <td>If you love kung-fu films and you haven't seen...</td>\n",
              "    </tr>\n",
              "    <tr>\n",
              "      <th>2</th>\n",
              "      <td>0</td>\n",
              "      <td>I looked over the other comments and was thoro...</td>\n",
              "    </tr>\n",
              "    <tr>\n",
              "      <th>3</th>\n",
              "      <td>1</td>\n",
              "      <td>Marlene Gorris has established herself as one ...</td>\n",
              "    </tr>\n",
              "    <tr>\n",
              "      <th>4</th>\n",
              "      <td>1</td>\n",
              "      <td>Quite a heartwarming little film and not just ...</td>\n",
              "    </tr>\n",
              "  </tbody>\n",
              "</table>\n",
              "</div>"
            ],
            "text/plain": [
              "   label                                               text\n",
              "0      0  I am a huge Stooges fan but the one and only r...\n",
              "1      1  If you love kung-fu films and you haven't seen...\n",
              "2      0  I looked over the other comments and was thoro...\n",
              "3      1  Marlene Gorris has established herself as one ...\n",
              "4      1  Quite a heartwarming little film and not just ..."
            ]
          },
          "metadata": {
            "tags": []
          },
          "execution_count": 4
        }
      ]
    },
    {
      "metadata": {
        "id": "_RCGQyet9muw",
        "colab_type": "code",
        "outputId": "7ed04dff-6fbc-4c16-82a3-b368488140a3",
        "colab": {
          "base_uri": "https://localhost:8080/",
          "height": 70
        }
      },
      "cell_type": "code",
      "source": [
        "# balanced dataset\n",
        "df['label'].value_counts()"
      ],
      "execution_count": 5,
      "outputs": [
        {
          "output_type": "execute_result",
          "data": {
            "text/plain": [
              "1    25000\n",
              "0    25000\n",
              "Name: label, dtype: int64"
            ]
          },
          "metadata": {
            "tags": []
          },
          "execution_count": 5
        }
      ]
    },
    {
      "metadata": {
        "id": "mj0RIypp8F-d",
        "colab_type": "code",
        "colab": {}
      },
      "cell_type": "code",
      "source": [
        "from sklearn.model_selection import train_test_split\n",
        "\n",
        "train, test = train_test_split(df, stratify = df['label'], \n",
        "                                  test_size = 0.2, random_state = 82)"
      ],
      "execution_count": 0,
      "outputs": []
    },
    {
      "metadata": {
        "id": "GRgBmYOnElOu",
        "colab_type": "code",
        "colab": {}
      },
      "cell_type": "code",
      "source": [
        "lens = train['text'].str.len()"
      ],
      "execution_count": 0,
      "outputs": []
    },
    {
      "metadata": {
        "id": "k7sR_oxL0Jv4",
        "colab_type": "code",
        "colab": {
          "base_uri": "https://localhost:8080/",
          "height": 70
        },
        "outputId": "0551dbcc-e91b-4b89-9dc1-456e2da718fb"
      },
      "cell_type": "code",
      "source": [
        "#The length of the comments varies a lot.\n",
        "print(\"Mean of comments' length: {}\".format(lens.mean()))\n",
        "print(\"Standard deviation of comments' length: {}\".format(lens.std()))\n",
        "print(\"Maximun comment length: {}\".format(lens.max()))"
      ],
      "execution_count": 11,
      "outputs": [
        {
          "output_type": "stream",
          "text": [
            "Mean of comments' length: 1311.335675\n",
            "Standard deviation of comments' length: 990.8478945004855\n",
            "Maximun comment length: 13704\n"
          ],
          "name": "stdout"
        }
      ]
    },
    {
      "metadata": {
        "id": "6totS3c-9mqA",
        "colab_type": "code",
        "outputId": "5be3fb3f-d99c-44c6-b30f-06174dc52d06",
        "colab": {
          "base_uri": "https://localhost:8080/",
          "height": 368
        }
      },
      "cell_type": "code",
      "source": [
        "lens.hist(bins=50)"
      ],
      "execution_count": 12,
      "outputs": [
        {
          "output_type": "execute_result",
          "data": {
            "text/plain": [
              "<matplotlib.axes._subplots.AxesSubplot at 0x7feee8a97128>"
            ]
          },
          "metadata": {
            "tags": []
          },
          "execution_count": 12
        },
        {
          "output_type": "display_data",
          "data": {
            "image/png": "[encoded data removed]",
            "text/plain": [
              "<Figure size 576x396 with 1 Axes>"
            ]
          },
          "metadata": {
            "tags": []
          }
        }
      ]
    },
    {
      "metadata": {
        "id": "6UG3GQEu092u",
        "colab_type": "code",
        "colab": {
          "base_uri": "https://localhost:8080/",
          "height": 364
        },
        "outputId": "cdd7c0b8-a443-4167-9870-e2b97da9e573"
      },
      "cell_type": "code",
      "source": [
        "# take a better look of the distribution\n",
        "lens.hist(bins=50, range=(0, 6000))"
      ],
      "execution_count": 14,
      "outputs": [
        {
          "output_type": "execute_result",
          "data": {
            "text/plain": [
              "<matplotlib.axes._subplots.AxesSubplot at 0x7feee68674e0>"
            ]
          },
          "metadata": {
            "tags": []
          },
          "execution_count": 14
        },
        {
          "output_type": "display_data",
          "data": {
            "image/png": "[encoded data removed]",
            "text/plain": [
              "<Figure size 576x396 with 1 Axes>"
            ]
          },
          "metadata": {
            "tags": []
          }
        }
      ]
    },
    {
      "metadata": {
        "id": "i0xokLSP99xK",
        "colab_type": "text"
      },
      "cell_type": "markdown",
      "source": [
        "## Building the model\n",
        "We'll start by creating a bag of words representation, as a term document matrix. We'll use ngrams, as suggested in the NBSVM paper."
      ]
    },
    {
      "metadata": {
        "id": "msYp7zrv9iG6",
        "colab_type": "code",
        "colab": {}
      },
      "cell_type": "code",
      "source": [
        "from sklearn.linear_model import LogisticRegression\n",
        "from sklearn.feature_extraction.text import TfidfVectorizer"
      ],
      "execution_count": 0,
      "outputs": []
    },
    {
      "metadata": {
        "id": "qM08t4Wy7hNv",
        "colab_type": "text"
      },
      "cell_type": "markdown",
      "source": [
        "## Pre-processing the raw text\n"
      ]
    },
    {
      "metadata": {
        "id": "JJe1mnfc9mlJ",
        "colab_type": "code",
        "colab": {}
      },
      "cell_type": "code",
      "source": [
        "import re, string\n",
        "import time\n",
        "\n",
        "re_tok = re.compile(f'([{string.punctuation}“”¨«»®´·º½¾¿¡§£₤‘’])')\n",
        "def tokenize(s): return re_tok.sub(r' \\1 ', s).split()"
      ],
      "execution_count": 0,
      "outputs": []
    },
    {
      "metadata": {
        "id": "GLcn8St4-Go0",
        "colab_type": "code",
        "colab": {}
      },
      "cell_type": "code",
      "source": [
        "COMMENT ='text'\n",
        "label_cols = ['label']"
      ],
      "execution_count": 0,
      "outputs": []
    },
    {
      "metadata": {
        "id": "Hcu8mp4bBzn0",
        "colab_type": "text"
      },
      "cell_type": "markdown",
      "source": [
        "Note: \"It turns out that using TF-IDF gives even better priors than the binarized features used in the paper.\" Jeremy Howard"
      ]
    },
    {
      "metadata": {
        "id": "ZxSGZ7gL9mi2",
        "colab_type": "code",
        "colab": {
          "base_uri": "https://localhost:8080/",
          "height": 34
        },
        "outputId": "110b4f92-7e46-470a-f89c-3ce72f7611cc"
      },
      "cell_type": "code",
      "source": [
        "start = time.time()\n",
        "\n",
        "n = train.shape[0]\n",
        "vec = TfidfVectorizer(ngram_range=(1,2), tokenizer=tokenize,\n",
        "               min_df=3, max_df=0.9, strip_accents='unicode', use_idf=1,\n",
        "               smooth_idf=1, sublinear_tf=1 )\n",
        "trn_term_doc = vec.fit_transform(train[COMMENT])\n",
        "test_term_doc = vec.transform(test[COMMENT])\n",
        "\n",
        "print (\"pre-processing time:\", time.time() - start, \"s\") "
      ],
      "execution_count": 18,
      "outputs": [
        {
          "output_type": "stream",
          "text": [
            "pre-processing time: 54.580705881118774 s\n"
          ],
          "name": "stdout"
        }
      ]
    },
    {
      "metadata": {
        "id": "O3F8x4Bk-N-U",
        "colab_type": "text"
      },
      "cell_type": "markdown",
      "source": [
        "This creates a sparse matrix with only a small number of non-zero elements (stored elements in the representation below)."
      ]
    },
    {
      "metadata": {
        "id": "ckrDPuHHCWVT",
        "colab_type": "code",
        "colab": {
          "base_uri": "https://localhost:8080/",
          "height": 87
        },
        "outputId": "e700f0cc-bca9-455a-d8dd-bdfd4e270ff5"
      },
      "cell_type": "code",
      "source": [
        "trn_term_doc, test_term_doc"
      ],
      "execution_count": 19,
      "outputs": [
        {
          "output_type": "execute_result",
          "data": {
            "text/plain": [
              "(<40000x400480 sparse matrix of type '<class 'numpy.float64'>'\n",
              " \twith 14141420 stored elements in Compressed Sparse Row format>,\n",
              " <10000x400480 sparse matrix of type '<class 'numpy.float64'>'\n",
              " \twith 3436362 stored elements in Compressed Sparse Row format>)"
            ]
          },
          "metadata": {
            "tags": []
          },
          "execution_count": 19
        }
      ]
    },
    {
      "metadata": {
        "id": "9Pgcyo9oC0L2",
        "colab_type": "text"
      },
      "cell_type": "markdown",
      "source": [
        "## Create the Model"
      ]
    },
    {
      "metadata": {
        "id": "ooJSLX7ICWSj",
        "colab_type": "code",
        "colab": {}
      },
      "cell_type": "code",
      "source": [
        "# This nice function is from a comment in Kaggle by AlexSánchez\n",
        "\n",
        "from sklearn.base import BaseEstimator, ClassifierMixin\n",
        "from sklearn.utils.validation import check_X_y, check_is_fitted\n",
        "from sklearn.linear_model import LogisticRegression\n",
        "from scipy import sparse\n",
        "class NbSvmClassifier(BaseEstimator, ClassifierMixin):\n",
        "    def __init__(self, C=1.0, dual=False, n_jobs=1):\n",
        "        self.C = C\n",
        "        self.dual = dual\n",
        "        self.n_jobs = n_jobs\n",
        "\n",
        "    def predict(self, x):\n",
        "        # Verify that model has been fit\n",
        "        check_is_fitted(self, ['_r', '_clf'])\n",
        "        return self._clf.predict(x.multiply(self._r))\n",
        "\n",
        "    def predict_proba(self, x):\n",
        "        # Verify that model has been fit\n",
        "        check_is_fitted(self, ['_r', '_clf'])\n",
        "        return self._clf.predict_proba(x.multiply(self._r))\n",
        "\n",
        "    def fit(self, x, y):\n",
        "        # Check that X and y have correct shape\n",
        "        y = y.values\n",
        "        x, y = check_X_y(x, y, accept_sparse=True)\n",
        "\n",
        "        def pr(x, y_i, y): # the basic naive bayes feature equation\n",
        "            p = x[y==y_i].sum(0)\n",
        "            return (p+1) / ((y==y_i).sum()+1)\n",
        "\n",
        "        self._r = sparse.csr_matrix(np.log(pr(x,1,y) / pr(x,0,y)))\n",
        "        x_nb = x.multiply(self._r)\n",
        "        self._clf = LogisticRegression(C=self.C, dual=self.dual, n_jobs=self.n_jobs).fit(x_nb, y)\n",
        "        return self"
      ],
      "execution_count": 0,
      "outputs": []
    },
    {
      "metadata": {
        "id": "EwfZDxlqCZL8",
        "colab_type": "code",
        "outputId": "6aeb0f7d-8ce8-4d21-f55f-1991b1ab211a",
        "colab": {
          "base_uri": "https://localhost:8080/",
          "height": 107
        }
      },
      "cell_type": "code",
      "source": [
        "model = NbSvmClassifier(C=4, dual=True, n_jobs=-1).fit(trn_term_doc, train['label'])"
      ],
      "execution_count": 21,
      "outputs": [
        {
          "output_type": "stream",
          "text": [
            "/usr/local/lib/python3.6/dist-packages/sklearn/linear_model/logistic.py:433: FutureWarning: Default solver will be changed to 'lbfgs' in 0.22. Specify a solver to silence this warning.\n",
            "  FutureWarning)\n",
            "/usr/local/lib/python3.6/dist-packages/sklearn/linear_model/logistic.py:1300: UserWarning: 'n_jobs' > 1 does not have any effect when 'solver' is set to 'liblinear'. Got 'n_jobs' = 2.\n",
            "  \" = {}.\".format(effective_n_jobs(self.n_jobs)))\n"
          ],
          "name": "stderr"
        }
      ]
    },
    {
      "metadata": {
        "id": "yqTqEo9XCcUL",
        "colab_type": "code",
        "colab": {
          "base_uri": "https://localhost:8080/",
          "height": 125
        },
        "outputId": "d429f160-62d6-4d12-c203-58f90cb0cbed"
      },
      "cell_type": "code",
      "source": [
        "start = time.time()\n",
        "\n",
        "model.fit(trn_term_doc, train['label'])\n",
        "\n",
        "print (\"training time:\", time.time() - start, \"s\") "
      ],
      "execution_count": 22,
      "outputs": [
        {
          "output_type": "stream",
          "text": [
            "/usr/local/lib/python3.6/dist-packages/sklearn/linear_model/logistic.py:433: FutureWarning: Default solver will be changed to 'lbfgs' in 0.22. Specify a solver to silence this warning.\n",
            "  FutureWarning)\n",
            "/usr/local/lib/python3.6/dist-packages/sklearn/linear_model/logistic.py:1300: UserWarning: 'n_jobs' > 1 does not have any effect when 'solver' is set to 'liblinear'. Got 'n_jobs' = 2.\n",
            "  \" = {}.\".format(effective_n_jobs(self.n_jobs)))\n"
          ],
          "name": "stderr"
        },
        {
          "output_type": "stream",
          "text": [
            "training time: 6.627230167388916 s\n"
          ],
          "name": "stdout"
        }
      ]
    },
    {
      "metadata": {
        "id": "J_OsLDgXHkXT",
        "colab_type": "code",
        "colab": {}
      },
      "cell_type": "code",
      "source": [
        "predictions = model.predict(test_term_doc)"
      ],
      "execution_count": 0,
      "outputs": []
    },
    {
      "metadata": {
        "id": "9azMRj5c6y_H",
        "colab_type": "text"
      },
      "cell_type": "markdown",
      "source": [
        "## Evaluate"
      ]
    },
    {
      "metadata": {
        "id": "2UnjfDov60sn",
        "colab_type": "code",
        "colab": {}
      },
      "cell_type": "code",
      "source": [
        "from sklearn.metrics import accuracy_score"
      ],
      "execution_count": 0,
      "outputs": []
    },
    {
      "metadata": {
        "id": "QblNCQ7wHtwW",
        "colab_type": "code",
        "outputId": "d1f455de-8cbc-4b4e-f8cb-80fc317c09a9",
        "colab": {
          "base_uri": "https://localhost:8080/",
          "height": 34
        }
      },
      "cell_type": "code",
      "source": [
        "accuracy_score(predictions, test['label'])"
      ],
      "execution_count": 25,
      "outputs": [
        {
          "output_type": "execute_result",
          "data": {
            "text/plain": [
              "0.9152"
            ]
          },
          "metadata": {
            "tags": []
          },
          "execution_count": 25
        }
      ]
    },
    {
      "metadata": {
        "id": "D9MrSpdZHzHd",
        "colab_type": "code",
        "colab": {}
      },
      "cell_type": "code",
      "source": [
        ""
      ],
      "execution_count": 0,
      "outputs": []
    }
  ]
}